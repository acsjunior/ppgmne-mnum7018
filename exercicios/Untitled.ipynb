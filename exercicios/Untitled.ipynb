{
 "cells": [
  {
   "cell_type": "code",
   "execution_count": 1,
   "id": "25654f8d",
   "metadata": {},
   "outputs": [],
   "source": [
    "import autograd.numpy as np\n",
    "from autograd import grad, jacobian"
   ]
  },
  {
   "cell_type": "markdown",
   "id": "b63b9129",
   "metadata": {},
   "source": [
    "### Variáveis aleatórias:\n",
    "\n",
    "$X_1 = \\sigma_{esc} \\sim \\mathcal{N}(40; \\; 5^{2}) \\; \\text{kN}/cm^2$\n",
    "\n",
    "$X_2 = W \\sim \\mathcal{N}(50; \\; 2,5^{2}) \\; cm^3$\n",
    "\n",
    "$X_3 = M \\sim \\mathcal{N}(1000; \\; 200^{2}) \\; \\text{kN} \\cdot cm^3$\n",
    "\n",
    "### Equação de Estado Limite\n",
    "\n",
    "$g(\\underline{X}) = X_1 X_2 - X_3$"
   ]
  },
  {
   "cell_type": "code",
   "execution_count": 2,
   "id": "091372f4",
   "metadata": {},
   "outputs": [],
   "source": [
    "# Vetor de médias:\n",
    "M = np.array([40, 50, 1000])"
   ]
  },
  {
   "cell_type": "code",
   "execution_count": 3,
   "id": "8cd38778",
   "metadata": {},
   "outputs": [
    {
     "name": "stdout",
     "output_type": "stream",
     "text": [
      "[[  5.    0.    0. ]\n",
      " [  0.    2.5   0. ]\n",
      " [  0.    0.  200. ]]\n"
     ]
    }
   ],
   "source": [
    "# Vetor desvio padrão:\n",
    "d = np.array([5, 2.5, 200])\n",
    "\n",
    "# Matriz desvio padrão:\n",
    "D = np.diag(d)\n",
    "\n",
    "print(D)"
   ]
  },
  {
   "cell_type": "code",
   "execution_count": 4,
   "id": "ffaa5779",
   "metadata": {},
   "outputs": [],
   "source": [
    "# Vetor gradiente"
   ]
  },
  {
   "cell_type": "code",
   "execution_count": 5,
   "id": "59a9ea9a",
   "metadata": {},
   "outputs": [
    {
     "name": "stdout",
     "output_type": "stream",
     "text": [
      "[[0.2   0.    0.   ]\n",
      " [0.    0.4   0.   ]\n",
      " [0.    0.    0.005]]\n"
     ]
    }
   ],
   "source": [
    "# Matriz jacobiana\n",
    "\n",
    "J = np.linalg.inv(D)\n",
    "\n",
    "print(J)"
   ]
  },
  {
   "cell_type": "code",
   "execution_count": 19,
   "id": "8f6aac09",
   "metadata": {},
   "outputs": [],
   "source": [
    "# Equação do estado limite no espaço reduzido Z:  \n",
    "\n",
    "def g(Z):\n",
    "    return 12.5*Z[0]*Z[1] + 250*Z[0] + 1000*Z[1] - 200*Z[2] + 1000"
   ]
  },
  {
   "cell_type": "code",
   "execution_count": 23,
   "id": "361801e4",
   "metadata": {},
   "outputs": [
    {
     "name": "stdout",
     "output_type": "stream",
     "text": [
      "[ 250. 1000. -200.]\n"
     ]
    }
   ],
   "source": [
    "# Vetor gradiente no ponto [0,0,0]\n",
    "\n",
    "ponto_inicial = np.array([0,0,0], dtype=float)\n",
    "\n",
    "gradiente = grad(g)(ponto_inicial)\n",
    "\n",
    "print(gradiente)"
   ]
  },
  {
   "cell_type": "code",
   "execution_count": 47,
   "id": "544b0954",
   "metadata": {},
   "outputs": [
    {
     "data": {
      "text/plain": [
       "1000.0"
      ]
     },
     "execution_count": 47,
     "metadata": {},
     "output_type": "execute_result"
    }
   ],
   "source": [
    "# Função estado limite no ponto = [0,0,0]\n",
    "\n",
    "g_ponto_inicial = g(ponto_inicial)\n",
    "\n",
    "g_ponto_inicial"
   ]
  },
  {
   "cell_type": "code",
   "execution_count": 40,
   "id": "487aa80a",
   "metadata": {},
   "outputs": [
    {
     "data": {
      "text/plain": [
       "1050.0"
      ]
     },
     "execution_count": 40,
     "metadata": {},
     "output_type": "execute_result"
    }
   ],
   "source": [
    "# Módulo do vetor gradiente:\n",
    "\n",
    "np.linalg.norm(gradiente)"
   ]
  },
  {
   "cell_type": "code",
   "execution_count": 44,
   "id": "13f57127",
   "metadata": {},
   "outputs": [
    {
     "data": {
      "text/plain": [
       "array([ 0.74535643,  2.98142572, -0.59628514])"
      ]
     },
     "execution_count": 44,
     "metadata": {},
     "output_type": "execute_result"
    }
   ],
   "source": [
    "# Fator de sensibilidade:\n",
    "\n",
    "alpha = gradiente / 335.41\n",
    "\n",
    "alpha"
   ]
  },
  {
   "cell_type": "code",
   "execution_count": 45,
   "id": "269febb9",
   "metadata": {},
   "outputs": [
    {
     "data": {
      "text/plain": [
       "0.0"
      ]
     },
     "execution_count": 45,
     "metadata": {},
     "output_type": "execute_result"
    }
   ],
   "source": [
    "# Índice de confiabilidade:\n",
    "\n",
    "beta = np.linalg.norm(ponto_inicial)\n",
    "\n",
    "beta"
   ]
  },
  {
   "cell_type": "code",
   "execution_count": 49,
   "id": "af9b95f6",
   "metadata": {},
   "outputs": [
    {
     "data": {
      "text/plain": [
       "array([-2.22222483, -8.88889931,  1.77777986])"
      ]
     },
     "execution_count": 49,
     "metadata": {},
     "output_type": "execute_result"
    }
   ],
   "source": [
    "z1 = -alpha * (beta + g_ponto_inicial / 335.41)\n",
    "\n",
    "z1"
   ]
  },
  {
   "cell_type": "code",
   "execution_count": 50,
   "id": "88c7e319",
   "metadata": {},
   "outputs": [
    {
     "data": {
      "text/plain": [
       "-8553.097330736184"
      ]
     },
     "execution_count": 50,
     "metadata": {},
     "output_type": "execute_result"
    }
   ],
   "source": [
    "g(z1)"
   ]
  },
  {
   "cell_type": "code",
   "execution_count": 59,
   "id": "933828e8",
   "metadata": {},
   "outputs": [
    {
     "name": "stdout",
     "output_type": "stream",
     "text": [
      "[ 138.88875862  972.22218965 -200.        ]\n"
     ]
    }
   ],
   "source": [
    "gradiente = grad(g)(z1)\n",
    "\n",
    "print(gradiente)"
   ]
  },
  {
   "cell_type": "code",
   "execution_count": null,
   "id": "b121c6e0",
   "metadata": {},
   "outputs": [],
   "source": []
  },
  {
   "cell_type": "code",
   "execution_count": null,
   "id": "26365bee",
   "metadata": {},
   "outputs": [],
   "source": []
  }
 ],
 "metadata": {
  "kernelspec": {
   "display_name": "Python 3",
   "language": "python",
   "name": "python3"
  },
  "language_info": {
   "codemirror_mode": {
    "name": "ipython",
    "version": 3
   },
   "file_extension": ".py",
   "mimetype": "text/x-python",
   "name": "python",
   "nbconvert_exporter": "python",
   "pygments_lexer": "ipython3",
   "version": "3.8.10"
  }
 },
 "nbformat": 4,
 "nbformat_minor": 5
}
