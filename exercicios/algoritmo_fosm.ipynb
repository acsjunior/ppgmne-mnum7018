{
 "cells": [
  {
   "cell_type": "markdown",
   "id": "f86552a6",
   "metadata": {},
   "source": [
    "## Variáveis aleatórias:\n",
    "\n",
    "$X_1 = \\sigma_{esc} \\sim \\mathcal{N}(40; \\; 5^{2}) \\; \\text{kN}/cm^2$\n",
    "\n",
    "$X_2 = W \\sim \\mathcal{N}(50; \\; 2,5^{2}) \\; cm^3$\n",
    "\n",
    "$X_3 = M \\sim \\mathcal{N}(1000; \\; 200^{2}) \\; \\text{kN} \\cdot cm^3$\n",
    "\n",
    "## Equação de Estado Limite\n",
    "\n",
    "$g(\\underline{X}) = X_1 X_2 - X_3$"
   ]
  },
  {
   "cell_type": "markdown",
   "id": "4e592b85",
   "metadata": {},
   "source": [
    "# Dados de entrada"
   ]
  },
  {
   "cell_type": "code",
   "execution_count": 1,
   "id": "23ffdac0",
   "metadata": {},
   "outputs": [],
   "source": [
    "# Vetor de médias:\n",
    "M = [40, 50, 1000]\n",
    "\n",
    "# Vetor de desvios padrão:\n",
    "D = [5, 2.5, 200]\n",
    "\n",
    "# Precisão fixada:\n",
    "delta = 0.001\n",
    "\n",
    "# Ponto inicial:\n",
    "z_ini = [0, 0, 0]"
   ]
  },
  {
   "cell_type": "markdown",
   "id": "07fd894f",
   "metadata": {},
   "source": [
    "# Algoritmo"
   ]
  },
  {
   "cell_type": "markdown",
   "id": "c937617c",
   "metadata": {},
   "source": [
    "## Carrega as bibliotecas necessárias"
   ]
  },
  {
   "cell_type": "code",
   "execution_count": 2,
   "id": "9c94493d",
   "metadata": {},
   "outputs": [],
   "source": [
    "import autograd.numpy as np\n",
    "from autograd import grad\n",
    "from scipy.stats import norm\n",
    "from copy import copy"
   ]
  },
  {
   "cell_type": "markdown",
   "id": "7f8108fe",
   "metadata": {},
   "source": [
    "## Define as funções que serão utilizadas"
   ]
  },
  {
   "cell_type": "code",
   "execution_count": 3,
   "id": "46121c71",
   "metadata": {},
   "outputs": [],
   "source": [
    "# Função do estado limite\n",
    "def __gx(X):\n",
    "    return X[0]*X[1] - X[2]\n",
    "\n",
    "\n",
    "# Função de transformação do espaço real de X no reduzido de Z:\n",
    "def __transformar(Z):\n",
    "    X = []\n",
    "    for i in range(len(D)):\n",
    "        X.append(D[i,i] * Z[i] + M[i])\n",
    "    return X \n",
    "\n",
    "\n",
    "# Função do estado limite no espaço reduzido Z:\n",
    "def calcular_gz(Z):\n",
    "    X = __gx(__transformar(Z))\n",
    "    return X\n",
    "\n",
    "\n",
    "# Função para obter o gradiente\n",
    "def calcular_gradiente(z):\n",
    "    return grad(calcular_gz)(z)\n",
    "\n",
    "\n",
    "# Função para calcular o módulo do vetor gradiente:\n",
    "def calcular_modulo(gradiente):\n",
    "    return np.linalg.norm(gradiente)\n",
    "\n",
    "\n",
    "# Função para calcular o fator de sensibilidade:\n",
    "def calcular_alpha(gradiente, modulo):\n",
    "    return gradiente / modulo\n",
    "\n",
    "\n",
    "# Função para calcular o índice de confiabilidade:\n",
    "def calcular_beta(z):\n",
    "    return np.linalg.norm(z)\n",
    "\n",
    "\n",
    "# Função para calcular o ponto na iteração:\n",
    "def calcular_z(alpha, beta, gz, modulo):\n",
    "    return -alpha * (beta + gz / modulo)"
   ]
  },
  {
   "cell_type": "markdown",
   "id": "0ecbd977",
   "metadata": {},
   "source": [
    "## Transforma os dados de entrada para o formato adequado"
   ]
  },
  {
   "cell_type": "code",
   "execution_count": 4,
   "id": "845fdf3c",
   "metadata": {},
   "outputs": [],
   "source": [
    "# Vetor de médias\n",
    "M = np.array(M, dtype=float)\n",
    "\n",
    "# Matriz de desvios padrão\n",
    "D = np.diag(np.array(D, dtype=float))\n",
    "\n",
    "z_ini = np.array(z_ini, dtype=float)"
   ]
  },
  {
   "cell_type": "markdown",
   "id": "ef1b37cb",
   "metadata": {},
   "source": [
    "## Inicia o processo iterativo"
   ]
  },
  {
   "cell_type": "code",
   "execution_count": 5,
   "id": "75c1eb83",
   "metadata": {
    "scrolled": false
   },
   "outputs": [
    {
     "name": "stdout",
     "output_type": "stream",
     "text": [
      "\n",
      "\n",
      "> Iteração k = 0\n",
      ">>> Ponto z0: [0. 0. 0.]\n",
      ">>> Fator de sensibilidade (alpha): [ 0.74535599  0.2981424  -0.59628479]\n",
      ">>> Índice de confiabilidade (beta): 0.0\n",
      "\n",
      "\n",
      "> Iteração k = 1\n",
      ">>> Ponto z1: [-2.22222222 -0.88888889  1.77777778]\n",
      ">>> Fator de sensibilidade (alpha): [ 0.74695116  0.22582244 -0.62535446]\n",
      ">>> Índice de confiabilidade (beta): 2.9814239699997196\n",
      ">>> Atendeu o critério de convergência? False\n",
      "\n",
      "\n",
      "> Iteração k = 2\n",
      ">>> Ponto z2: [-2.28464589 -0.6907069   1.91272679]\n",
      ">>> Fator de sensibilidade (alpha): [ 0.75075258  0.22221512 -0.62208602]\n",
      ">>> Índice de confiabilidade (beta): 3.05862822381652\n",
      ">>> Atendeu o critério de convergência? False\n",
      "\n",
      "\n",
      "> Iteração k = 3\n",
      ">>> Ponto z3: [-2.28914549 -0.67756375  1.89682386]\n",
      ">>> Fator de sensibilidade (alpha): [ 0.7510046   0.22196363 -0.62187156]\n",
      ">>> Índice de confiabilidade (beta): 3.0491343805452544\n",
      ">>> Atendeu o critério de convergência? False\n",
      "\n",
      "\n",
      "> Iteração k = 4\n",
      ">>> Ponto z4: [-2.28986842 -0.67678347  1.89613226]\n",
      ">>> Fator de sensibilidade (alpha): [ 0.75102251  0.22193186 -0.62186128]\n",
      ">>> Índice de confiabilidade (beta): 3.049073764437649\n",
      ">>> Atendeu o critério de convergência? True\n",
      "\n",
      "\n",
      "> Fim do processo iterativo\n",
      "\n",
      "\n",
      "Confiabilidade: 0.9988522594432727\n",
      "Probabilidade de falha: 0.0011477405567272836\n"
     ]
    }
   ],
   "source": [
    "# Inicializa as variáveis:\n",
    "k = 0\n",
    "beta = []\n",
    "z = copy(z_ini)\n",
    "convergiu = False\n",
    "\n",
    "while convergiu == False:\n",
    "    \n",
    "    print('\\n')\n",
    "    print(f'> Iteração k = {k}')\n",
    "    print(f'>>> Ponto z{k}: {z}')\n",
    "    \n",
    "    # Obtém o vetor gradiente:\n",
    "    gradiente = calcular_gradiente(z)\n",
    "\n",
    "    # Obtém a função do estado limite:\n",
    "    g = calcular_gz(z)\n",
    "    \n",
    "    # Obtém o módulo do vetor gradiente:\n",
    "    modulo = calcular_modulo(gradiente)\n",
    "\n",
    "    # Obtém o fator de sensibilidade:\n",
    "    alpha = calcular_alpha(gradiente, modulo)\n",
    "    print(f'>>> Fator de sensibilidade (alpha): {alpha}')\n",
    "\n",
    "    # Obtém o índice de confiabilidade:\n",
    "    beta.append(calcular_beta(z))\n",
    "    print(f'>>> Índice de confiabilidade (beta): {beta[k]}')\n",
    "\n",
    "    if k > 0:\n",
    "        convergiu = (abs(beta[k] - beta[k-1])) < delta\n",
    "        print(f'>>> Atendeu o critério de convergência? {convergiu}')\n",
    "        \n",
    "        if convergiu:\n",
    "            print('\\n')\n",
    "            print(f'> Fim do processo iterativo')\n",
    "            \n",
    "            # Calcula a confiabilidade\n",
    "            conf = norm.cdf(beta[k])\n",
    "            pfalha = 1 - conf\n",
    "            print('\\n')\n",
    "            print(f'Confiabilidade: {conf}')\n",
    "            print(f'Probabilidade de falha: {pfalha}')\n",
    "            \n",
    "        else:\n",
    "            # Calcula o ponto de projeto:\n",
    "            z = calcular_z(alpha, beta[k], g, modulo)\n",
    "            k += 1\n",
    "        \n",
    "    else:\n",
    "        convergiu = False\n",
    "        # Calcula o ponto de projeto:\n",
    "        z = calcular_z(alpha, beta[k], g, modulo)\n",
    "        k += 1"
   ]
  },
  {
   "cell_type": "code",
   "execution_count": null,
   "id": "8a7c8b6c",
   "metadata": {},
   "outputs": [],
   "source": []
  },
  {
   "cell_type": "code",
   "execution_count": null,
   "id": "045fb6a8",
   "metadata": {},
   "outputs": [],
   "source": []
  }
 ],
 "metadata": {
  "kernelspec": {
   "display_name": "Python 3",
   "language": "python",
   "name": "python3"
  },
  "language_info": {
   "codemirror_mode": {
    "name": "ipython",
    "version": 3
   },
   "file_extension": ".py",
   "mimetype": "text/x-python",
   "name": "python",
   "nbconvert_exporter": "python",
   "pygments_lexer": "ipython3",
   "version": "3.8.10"
  }
 },
 "nbformat": 4,
 "nbformat_minor": 5
}
