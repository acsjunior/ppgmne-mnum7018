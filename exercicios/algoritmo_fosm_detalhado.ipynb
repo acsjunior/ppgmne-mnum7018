{
 "cells": [
  {
   "cell_type": "code",
   "execution_count": 1,
   "id": "25654f8d",
   "metadata": {},
   "outputs": [],
   "source": [
    "import autograd.numpy as np\n",
    "from autograd import grad\n",
    "from scipy.stats import norm"
   ]
  },
  {
   "cell_type": "markdown",
   "id": "b63b9129",
   "metadata": {},
   "source": [
    "## Variáveis aleatórias:\n",
    "\n",
    "$X_1 = \\sigma_{esc} \\sim \\mathcal{N}(40; \\; 5^{2}) \\; \\text{kN}/cm^2$\n",
    "\n",
    "$X_2 = W \\sim \\mathcal{N}(50; \\; 2,5^{2}) \\; cm^3$\n",
    "\n",
    "$X_3 = M \\sim \\mathcal{N}(1000; \\; 200^{2}) \\; \\text{kN} \\cdot cm^3$\n",
    "\n",
    "## Equação de Estado Limite\n",
    "\n",
    "$g(\\underline{X}) = X_1 X_2 - X_3$"
   ]
  },
  {
   "cell_type": "markdown",
   "id": "6190589b",
   "metadata": {},
   "source": [
    "## Implementação computacional\n",
    "\n",
    "### Funções:"
   ]
  },
  {
   "cell_type": "code",
   "execution_count": null,
   "id": "99f796ef",
   "metadata": {},
   "outputs": [],
   "source": [
    "# Função do estado limite\n",
    "def __gx(X):\n",
    "    return X[0]*X[1] - X[2]\n",
    "\n",
    "\n",
    "# Função de transformação do espaço real de X no reduzido de Z:\n",
    "def __transformar(Z):\n",
    "    X = []\n",
    "    for i in range(len(D)):\n",
    "        X.append(D[i,i] * Z[i] + M[i])\n",
    "    return X \n",
    "\n",
    "\n",
    "# Função do estado limite no espaço reduzido Z:\n",
    "def calcular_gz(Z):\n",
    "    X = __gx(__transformar(Z))\n",
    "    return X\n",
    "\n",
    "\n",
    "def calcular_gradiente(z):\n",
    "    return grad(calcular_gz)(z)\n",
    "\n",
    "\n",
    "# Função para calcular o módulo do vetor gradiente:\n",
    "def calcular_modulo(gradiente):\n",
    "    return np.linalg.norm(gradiente)\n",
    "\n",
    "\n",
    "# Função para calcular o fator de sensibilidade:\n",
    "def calcular_alpha(gradiente, modulo):\n",
    "    return gradiente / modulo\n",
    "\n",
    "\n",
    "# Função para calcular o índice de confiabilidade:\n",
    "def calcular_beta(z):\n",
    "    return np.linalg.norm(z)\n",
    "\n",
    "\n",
    "# Função para calcular o ponto na iteração:\n",
    "def calcular_z(alpha, beta, gz, modulo):\n",
    "    return -alpha * (beta + gz / modulo)"
   ]
  },
  {
   "cell_type": "markdown",
   "id": "1b6aedfb",
   "metadata": {},
   "source": [
    "### Inicialização"
   ]
  },
  {
   "cell_type": "code",
   "execution_count": null,
   "id": "091372f4",
   "metadata": {},
   "outputs": [],
   "source": [
    "# Vetor de médias:\n",
    "M = np.array([40, 50, 1000])\n",
    "\n",
    "print(M)"
   ]
  },
  {
   "cell_type": "code",
   "execution_count": null,
   "id": "8cd38778",
   "metadata": {},
   "outputs": [],
   "source": [
    "# Matriz desvio padrão:\n",
    "d = np.array([5, 2.5, 200])\n",
    "D = np.diag(d)\n",
    "\n",
    "print(D)"
   ]
  },
  {
   "cell_type": "code",
   "execution_count": null,
   "id": "d30e67d8",
   "metadata": {},
   "outputs": [],
   "source": [
    "# Precisão fixada\n",
    "\n",
    "delta = 0.01"
   ]
  },
  {
   "cell_type": "markdown",
   "id": "7df238c2",
   "metadata": {},
   "source": [
    "### Processo iterativo\n",
    "\n",
    "#### Iteração k = 0"
   ]
  },
  {
   "cell_type": "code",
   "execution_count": null,
   "id": "7e873dad",
   "metadata": {},
   "outputs": [],
   "source": [
    "# Ponto inicial:\n",
    "z0 = np.array([0,0,0], dtype=float)\n",
    "\n",
    "print(z0)"
   ]
  },
  {
   "cell_type": "code",
   "execution_count": null,
   "id": "361801e4",
   "metadata": {},
   "outputs": [],
   "source": [
    "# Vetor gradiente\n",
    "grad_z0 = calcular_gradiente(z0)\n",
    "\n",
    "print(grad_z0)"
   ]
  },
  {
   "cell_type": "code",
   "execution_count": null,
   "id": "544b0954",
   "metadata": {},
   "outputs": [],
   "source": [
    "# Função estado limite\n",
    "g_z0 = calcular_gz(z0)\n",
    "\n",
    "print(g_z0)"
   ]
  },
  {
   "cell_type": "code",
   "execution_count": null,
   "id": "487aa80a",
   "metadata": {},
   "outputs": [],
   "source": [
    "# Módulo do vetor gradiente:\n",
    "mod_z0 = calcular_modulo(grad_z0)\n",
    "\n",
    "print(mod_z0)"
   ]
  },
  {
   "cell_type": "code",
   "execution_count": null,
   "id": "13f57127",
   "metadata": {},
   "outputs": [],
   "source": [
    "# Fator de sensibilidade:\n",
    "alpha_z0 = calcular_alpha(grad_z0, mod_z0)\n",
    "\n",
    "print(alpha_z0)"
   ]
  },
  {
   "cell_type": "code",
   "execution_count": null,
   "id": "269febb9",
   "metadata": {},
   "outputs": [],
   "source": [
    "# Índice de confiabilidade:\n",
    "beta_z0 = calcular_beta(z0)\n",
    "\n",
    "print(beta_z0)"
   ]
  },
  {
   "cell_type": "markdown",
   "id": "4fd58084",
   "metadata": {},
   "source": [
    "#### Iteração k = 1"
   ]
  },
  {
   "cell_type": "code",
   "execution_count": null,
   "id": "af9b95f6",
   "metadata": {},
   "outputs": [],
   "source": [
    "# Cálculo do ponto\n",
    "z1 = calcular_z(alpha_z0, beta_z0, g_z0, mod_z0)\n",
    "\n",
    "print(z1)"
   ]
  },
  {
   "cell_type": "code",
   "execution_count": null,
   "id": "eed4af15",
   "metadata": {},
   "outputs": [],
   "source": [
    "# Vetor gradiente\n",
    "grad_z1 = calcular_gradiente(z1)\n",
    "\n",
    "print(grad_z1)"
   ]
  },
  {
   "cell_type": "code",
   "execution_count": null,
   "id": "88c7e319",
   "metadata": {},
   "outputs": [],
   "source": [
    "# Função estado limite\n",
    "g_z1 = calcular_gz(z1)\n",
    "\n",
    "print(g_z1)"
   ]
  },
  {
   "cell_type": "code",
   "execution_count": null,
   "id": "254d7399",
   "metadata": {},
   "outputs": [],
   "source": [
    "# Módulo do vetor gradiente:\n",
    "mod_z1 = calcular_modulo(grad_z1)\n",
    "\n",
    "print(mod_z1)"
   ]
  },
  {
   "cell_type": "code",
   "execution_count": null,
   "id": "faf129e3",
   "metadata": {},
   "outputs": [],
   "source": [
    "# Fator de sensibilidade:\n",
    "alpha_z1 = calcular_alpha(grad_z1, mod_z1)\n",
    "\n",
    "print(alpha_z1)"
   ]
  },
  {
   "cell_type": "code",
   "execution_count": null,
   "id": "51967918",
   "metadata": {},
   "outputs": [],
   "source": [
    "# Índice de confiabilidade:\n",
    "beta_z1 = calcular_beta(z1)\n",
    "\n",
    "print(beta_z1)"
   ]
  },
  {
   "cell_type": "code",
   "execution_count": null,
   "id": "51ec5184",
   "metadata": {},
   "outputs": [],
   "source": [
    "# Verificação do critério de convergência\n",
    "\n",
    "(beta_z1 - beta_z0) < delta"
   ]
  },
  {
   "cell_type": "markdown",
   "id": "f4a6451d",
   "metadata": {},
   "source": [
    "#### Iteração k = 2"
   ]
  },
  {
   "cell_type": "code",
   "execution_count": null,
   "id": "95882133",
   "metadata": {},
   "outputs": [],
   "source": [
    "# Cálculo do ponto\n",
    "z2 = calcular_z(alpha_z1, beta_z1, g_z1, mod_z1)\n",
    "\n",
    "print(z2)"
   ]
  },
  {
   "cell_type": "code",
   "execution_count": null,
   "id": "dfbc981d",
   "metadata": {},
   "outputs": [],
   "source": [
    "# Vetor gradiente no ponto z2\n",
    "grad_z2 = calcular_gradiente(z2)\n",
    "\n",
    "print(grad_z2)"
   ]
  },
  {
   "cell_type": "code",
   "execution_count": null,
   "id": "cf5dcff8",
   "metadata": {},
   "outputs": [],
   "source": [
    "# Função estado limite\n",
    "g_z2 = calcular_gz(z2)\n",
    "\n",
    "print(g_z2)"
   ]
  },
  {
   "cell_type": "code",
   "execution_count": null,
   "id": "1d7618a9",
   "metadata": {},
   "outputs": [],
   "source": [
    "# Módulo do vetor gradiente:\n",
    "mod_z2 = calcular_modulo(grad_z2)\n",
    "\n",
    "print(mod_z2)"
   ]
  },
  {
   "cell_type": "code",
   "execution_count": null,
   "id": "7560ca46",
   "metadata": {},
   "outputs": [],
   "source": [
    "# Fator de sensibilidade:\n",
    "alpha_z2 = calcular_alpha(grad_z2, mod_z2)\n",
    "\n",
    "print(alpha_z2)"
   ]
  },
  {
   "cell_type": "code",
   "execution_count": null,
   "id": "21a1a11b",
   "metadata": {},
   "outputs": [],
   "source": [
    "# Índice de confiabilidade:\n",
    "beta_z2 = calcular_beta(z2)\n",
    "\n",
    "print(beta_z2)"
   ]
  },
  {
   "cell_type": "code",
   "execution_count": null,
   "id": "b886f346",
   "metadata": {},
   "outputs": [],
   "source": [
    "# Verificação do critério de convergência\n",
    "\n",
    "(beta_z2 - beta_z1) < delta"
   ]
  },
  {
   "cell_type": "markdown",
   "id": "255117cb",
   "metadata": {},
   "source": [
    "### Iteração k = 3"
   ]
  },
  {
   "cell_type": "code",
   "execution_count": null,
   "id": "a3e48504",
   "metadata": {},
   "outputs": [],
   "source": [
    "# Cálculo do ponto\n",
    "z3 = calcular_z(alpha_z2, beta_z2, g_z2, mod_z2)\n",
    "\n",
    "print(z3)"
   ]
  },
  {
   "cell_type": "code",
   "execution_count": null,
   "id": "a37b49b8",
   "metadata": {},
   "outputs": [],
   "source": [
    "# Vetor gradiente no ponto z3\n",
    "grad_z3 = calcular_gradiente(z3)\n",
    "\n",
    "print(grad_z3)"
   ]
  },
  {
   "cell_type": "code",
   "execution_count": null,
   "id": "62faf2f1",
   "metadata": {},
   "outputs": [],
   "source": [
    "# Função estado limite\n",
    "g_z3 = calcular_gz(z3)\n",
    "\n",
    "print(g_z3)"
   ]
  },
  {
   "cell_type": "code",
   "execution_count": null,
   "id": "7cfdbee9",
   "metadata": {},
   "outputs": [],
   "source": [
    "# Módulo do vetor gradiente:\n",
    "mod_z3 = calcular_modulo(grad_z3)\n",
    "\n",
    "print(mod_z3)"
   ]
  },
  {
   "cell_type": "code",
   "execution_count": null,
   "id": "05eb0b28",
   "metadata": {},
   "outputs": [],
   "source": [
    "# Fator de sensibilidade:\n",
    "alpha_z3 = calcular_alpha(grad_z3, mod_z3)\n",
    "\n",
    "print(alpha_z3)"
   ]
  },
  {
   "cell_type": "code",
   "execution_count": null,
   "id": "fa71225c",
   "metadata": {},
   "outputs": [],
   "source": [
    "# Índice de confiabilidade:\n",
    "beta_z3 = calcular_beta(z3)\n",
    "\n",
    "print(beta_z3)"
   ]
  },
  {
   "cell_type": "code",
   "execution_count": null,
   "id": "7ae5696f",
   "metadata": {},
   "outputs": [],
   "source": [
    "# Verificação do critério de convergência\n",
    "\n",
    "(beta_z3 - beta_z2) < delta"
   ]
  },
  {
   "cell_type": "markdown",
   "id": "d70de361",
   "metadata": {},
   "source": [
    "### Cálculo das probabilidades"
   ]
  },
  {
   "cell_type": "code",
   "execution_count": null,
   "id": "600bef23",
   "metadata": {},
   "outputs": [],
   "source": [
    "# Confiabilidade\n",
    "\n",
    "conf = norm.cdf(beta_z3)\n",
    "\n",
    "print(conf)"
   ]
  },
  {
   "cell_type": "code",
   "execution_count": null,
   "id": "e93ccc3a",
   "metadata": {},
   "outputs": [],
   "source": [
    "# Probabilidade de falha\n",
    "\n",
    "p_falha = 1 - conf\n",
    "\n",
    "print(p_falha)"
   ]
  },
  {
   "cell_type": "code",
   "execution_count": null,
   "id": "bf779517",
   "metadata": {},
   "outputs": [],
   "source": []
  }
 ],
 "metadata": {
  "kernelspec": {
   "display_name": "Python 3",
   "language": "python",
   "name": "python3"
  },
  "language_info": {
   "codemirror_mode": {
    "name": "ipython",
    "version": 3
   },
   "file_extension": ".py",
   "mimetype": "text/x-python",
   "name": "python",
   "nbconvert_exporter": "python",
   "pygments_lexer": "ipython3",
   "version": "3.8.10"
  }
 },
 "nbformat": 4,
 "nbformat_minor": 5
}
