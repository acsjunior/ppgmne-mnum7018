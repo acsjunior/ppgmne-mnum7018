{
 "cells": [
  {
   "cell_type": "markdown",
   "id": "1f4bf568",
   "metadata": {},
   "source": [
    "# Variáveis aleatórias:\n",
    "\n",
    "$X_1 = R = \\text{Lognormal com }\\mu_R = 249,89 \\text{kN e  }\\sigma_R = 24.978 \\text{kN}$\n",
    "\n",
    "$X_2 = S_{pp} = \\text{Normal com }\\mu_{pp} = 19.86 \\text{kN e  }\\sigma_{pp} = 0.993 \\text{kN}$\n",
    "\n",
    "$X_3 = S_{sv} = \\text{Gumbel Tipo I (máximo) com }\\mu_{sv} = 78.84 \\text{kN e  }\\sigma_{pp} = 15.768 \\text{kN}$\n",
    "\n",
    "# Equação de Estado Limite\n",
    "\n",
    "$g(\\underline{X}) = X_1 - X_2 - X_3$"
   ]
  },
  {
   "cell_type": "markdown",
   "id": "09dbace1",
   "metadata": {},
   "source": [
    "# Dados de entrada"
   ]
  },
  {
   "cell_type": "code",
   "execution_count": 1,
   "id": "2107132d",
   "metadata": {},
   "outputs": [],
   "source": [
    "# Vetor de médias:\n",
    "M = [249.78, 19.86, 78.84]\n",
    "\n",
    "# Vetor de desvios padrão:\n",
    "D = [24.978, 0.993, 15.768]\n",
    "\n",
    "# Precisão fixada:\n",
    "delta = 0.00001"
   ]
  },
  {
   "cell_type": "markdown",
   "id": "e9f94cc9",
   "metadata": {},
   "source": [
    "# Algoritmo"
   ]
  },
  {
   "cell_type": "markdown",
   "id": "710858c3",
   "metadata": {},
   "source": [
    "## Carrega as bibliotecas necessárias"
   ]
  },
  {
   "cell_type": "code",
   "execution_count": 2,
   "id": "cb3a7ad2",
   "metadata": {},
   "outputs": [],
   "source": [
    "import autograd.numpy as np\n",
    "from autograd import grad\n",
    "from scipy.stats import lognorm, norm, gumbel_r\n",
    "from copy import copy"
   ]
  },
  {
   "cell_type": "markdown",
   "id": "5ff6c7bc",
   "metadata": {},
   "source": [
    "## Define as funções que serão utilizadas"
   ]
  },
  {
   "cell_type": "code",
   "execution_count": 3,
   "id": "47b7f924",
   "metadata": {},
   "outputs": [],
   "source": [
    "# Função do estado limite\n",
    "def calcular_gx(X):\n",
    "    return X[0] - X[1] - X[2]\n",
    "\n",
    "\n",
    "# Funções para obter os gradiente:\n",
    "def __calcular_gradiente(X):\n",
    "    return grad(calcular_gx)(X)\n",
    "\n",
    "def calcular_gradiente_z(X, J):\n",
    "    grad_x = __calcular_gradiente(X)\n",
    "    return np.matmul(np.linalg.inv(J), grad_x)\n",
    "\n",
    "\n",
    "# Função para calcular o módulo do vetor:\n",
    "def calcular_modulo(vetor):\n",
    "    return np.sqrt(sum([x**2 for x in vetor]))\n",
    "\n",
    "\n",
    "# Função para calcular o coeficiente de variação:\n",
    "def __calcular_cv(media, dpadrao):\n",
    "    return dpadrao / media\n",
    "\n",
    "\n",
    "# Função para calcular os parâmetros da Lognormal:\n",
    "def calcular_parametros_lognormal(media, dpadrao):\n",
    "    cv = __calcular_cv(media, dpadrao)\n",
    "    params = {}\n",
    "    params['epsilon'] = np.sqrt(np.log(1 + cv**2))\n",
    "    params['lambda'] = np.log(media) - 1/2 * params['epsilon']**2\n",
    "    return params\n",
    "\n",
    "\n",
    "# Função para calcular os parâmetros da Gumbel:\n",
    "def calcular_parametros_gumbel(media, dpadrao):\n",
    "    cv = __calcular_cv(media, dpadrao)\n",
    "    params = {}\n",
    "    params['alpha'] = np.pi / np.sqrt(6 * dpadrao**2)\n",
    "    params['u'] = media  - (0.577216 / params['alpha'])\n",
    "    return params\n",
    "\n",
    "\n",
    "# Função para calcular os parâmetros da Normal equivalente:\n",
    "def calcular_parametros_normal_equiv(acumulada, densidade, media):\n",
    "    inversa = norm.ppf(acumulada)\n",
    "    phi = norm.pdf(inversa)\n",
    "    params = {}\n",
    "    params['sigma'] = phi / densidade\n",
    "    params['mi'] = media - params['sigma'] * inversa\n",
    "    return params"
   ]
  },
  {
   "cell_type": "markdown",
   "id": "aa8731ab",
   "metadata": {},
   "source": [
    "## Obtem os parâmetros da Lognormal ($X_1$) e Gumbel ($X_3$)"
   ]
  },
  {
   "cell_type": "code",
   "execution_count": 4,
   "id": "fd88213e",
   "metadata": {},
   "outputs": [],
   "source": [
    "# Parâmetros da Lognormal\n",
    "params_x1 = calcular_parametros_lognormal(M[0], D[0])\n",
    "\n",
    "# Parâmetros da distribuição de Gumbel\n",
    "params_x3 = calcular_parametros_gumbel(M[2], D[2])"
   ]
  },
  {
   "cell_type": "markdown",
   "id": "00e6e244",
   "metadata": {},
   "source": [
    "## Transforma os dados de entrada para o formato adequado"
   ]
  },
  {
   "cell_type": "code",
   "execution_count": 5,
   "id": "2ef1c2e7",
   "metadata": {},
   "outputs": [],
   "source": [
    "# Vetor de médias\n",
    "M = np.array(M, dtype=float)\n",
    "\n",
    "# Matriz de desvios padrão\n",
    "D = np.diag(np.array(D, dtype=float))"
   ]
  },
  {
   "cell_type": "markdown",
   "id": "97350507",
   "metadata": {},
   "source": [
    "## Inicia o processo iterativo"
   ]
  },
  {
   "cell_type": "code",
   "execution_count": 6,
   "id": "94a783b8",
   "metadata": {},
   "outputs": [
    {
     "name": "stdout",
     "output_type": "stream",
     "text": [
      "\n",
      "\n",
      "> Iteração k = 0\n",
      ">>> Ponto (espaço original) X0: [249.78  19.86  78.84]\n",
      ">>> Ponto (espaço reduzido) Z0: [0.04975165 0.         0.16955644]\n",
      ">>> Índice de confiabilidade (beta): 0.17670487238978136\n",
      "\n",
      "\n",
      "> Iteração k = 1\n",
      ">>> Ponto (espaço original) X1: [139.60791193  20.03215841 119.57575351]\n",
      ">>> Ponto (espaço reduzido) Z1: [-3.2236891   0.17337202  3.90098947]\n",
      ">>> Índice de confiabilidade (beta): 5.063590436753624\n",
      ">>> Atendeu o critério de convergência? False\n",
      "\n",
      "\n",
      "> Iteração k = 2\n",
      ">>> Ponto (espaço original) X2: [118.56121663  20.02052404  98.54069259]\n",
      ">>> Ponto (espaço reduzido) Z2: [-3.51333814  0.16165563  1.76811568]\n",
      ">>> Índice de confiabilidade (beta): 3.936484537420019\n",
      ">>> Atendeu o critério de convergência? False\n",
      "\n",
      "\n",
      "> Iteração k = 3\n",
      ">>> Ponto (espaço original) X3: [123.61098311  19.99071405 103.62026906]\n",
      ">>> Ponto (espaço reduzido) Z3: [-3.45656435  0.13163549  2.25263456]\n",
      ">>> Índice de confiabilidade (beta): 4.1278962586410906\n",
      ">>> Atendeu o critério de convergência? False\n",
      "\n",
      "\n",
      "> Iteração k = 4\n",
      ">>> Ponto (espaço original) X4: [122.82008716  19.99770373 102.82238343]\n",
      ">>> Ponto (espaço reduzido) Z4: [-3.46601053  0.13867445  2.17498086]\n",
      ">>> Índice de confiabilidade (beta): 4.094264438197693\n",
      ">>> Atendeu o critério de convergência? False\n",
      "\n",
      "\n",
      "> Iteração k = 5\n",
      ">>> Ponto (espaço original) X5: [122.96616979  19.99659578 102.96957401]\n",
      ">>> Ponto (espaço reduzido) Z5: [-3.46428108  0.13755869  2.18926482]\n",
      ">>> Índice de confiabilidade (beta): 4.100371475579866\n",
      ">>> Atendeu o critério de convergência? False\n",
      "\n",
      "\n",
      "> Iteração k = 6\n",
      ">>> Ponto (espaço original) X6: [122.93983155  19.99680001 102.94303154]\n",
      ">>> Ponto (espaço reduzido) Z6: [-3.46459341  0.13776436  2.18668764]\n",
      ">>> Índice de confiabilidade (beta): 4.0992669264412935\n",
      ">>> Atendeu o critério de convergência? False\n",
      "\n",
      "\n",
      "> Iteração k = 7\n",
      ">>> Ponto (espaço original) X7: [122.94460127  19.99676317 102.9478381 ]\n",
      ">>> Ponto (espaço reduzido) Z7: [-3.46453686  0.13772727  2.18715429]\n",
      ">>> Índice de confiabilidade (beta): 4.099466841279603\n",
      ">>> Atendeu o critério de convergência? False\n",
      "\n",
      "\n",
      "> Iteração k = 8\n",
      ">>> Ponto (espaço original) X8: [122.94373819  19.99676984 102.94696834]\n",
      ">>> Ponto (espaço reduzido) Z8: [-3.4645471   0.13773398  2.18706985]\n",
      ">>> Índice de confiabilidade (beta): 4.099430662800226\n",
      ">>> Atendeu o critério de convergência? True\n",
      "\n",
      "\n",
      "> Fim do processo iterativo\n",
      "\n",
      "\n",
      "Confiabilidade: 0.999979291613748\n",
      "Probabilidade de falha: 0.000020708386252\n"
     ]
    }
   ],
   "source": [
    "# Inicializa as variáveis:\n",
    "k = 0\n",
    "beta = []\n",
    "convergiu = False\n",
    "\n",
    "while not convergiu:\n",
    "    \n",
    "    print('\\n')\n",
    "    print(f'> Iteração k = {k}')\n",
    "    \n",
    "    # Obtém o ponto do projeto no espaço original:\n",
    "    if k == 0:\n",
    "        X = copy(M)\n",
    "    else:\n",
    "        X = X + np.matmul(np.linalg.inv(J), np.subtract(Z_, Z))\n",
    "    print(f'>>> Ponto (espaço original) X{k}: {X}')\n",
    "    \n",
    "    # Obtém os parâmetros da Normal Equivalente à Lognormal\n",
    "    acum = lognorm.cdf(x=X[0], s=params_x1['epsilon'], scale=np.exp(params_x1['lambda']))\n",
    "    dens = lognorm.pdf(x=X[0], s=params_x1['epsilon'], scale=np.exp(params_x1['lambda']))\n",
    "    params_x1_equiv = calcular_parametros_normal_equiv(acum, dens, X[0])\n",
    "\n",
    "    # Obtém os parâmetros da Normal Equivalente à Gumbel\n",
    "    acum = gumbel_r.cdf(X[2], params_x3['u'], 1/params_x3['alpha'])\n",
    "    dens = gumbel_r.pdf(X[2], params_x3['u'], 1/params_x3['alpha'])\n",
    "    params_x3_equiv = calcular_parametros_normal_equiv(acum, dens, X[2])\n",
    "    \n",
    "    L = np.array([[1,0,0], [0,1,0], [0,0,1]], dtype=float) # Matriz L\n",
    "    M_ = [params_x1_equiv['mi'], M[1], params_x3_equiv['mi']] # Matriz M'\n",
    "    J = np.matmul(L, np.linalg.inv(D)) # Matriz Jacobiana\n",
    "    \n",
    "    # Obtém o ponto do projeto no espaço reduzido:\n",
    "    Z = np.matmul(J, np.subtract(X, M_))\n",
    "    \n",
    "    print(f'>>> Ponto (espaço reduzido) Z{k}: {Z}')\n",
    "    \n",
    "    # Calcula o gradiente:\n",
    "    grad_z = calcular_gradiente_z(X, J)\n",
    "    \n",
    "    # Calcula o índice de confiabilidade:\n",
    "    beta.append(calcular_modulo(Z))\n",
    "    \n",
    "    print(f'>>> Índice de confiabilidade (beta): {beta[k]}')\n",
    "    \n",
    "    # Calculo da estimativa no novo ponto\n",
    "    modulo_gradz = calcular_modulo(grad_z)\n",
    "    Z_ = (1 / modulo_gradz**2) *(np.matmul(grad_z, Z) - calcular_gx(X)) * grad_z\n",
    "    \n",
    "    \n",
    "    # Verifica o critério de convergência:\n",
    "    if k > 0:\n",
    "        convergiu = abs(beta[k] - beta[k-1]) / beta[k] <= delta\n",
    "        print(f'>>> Atendeu o critério de convergência? {convergiu}')\n",
    "        \n",
    "        if convergiu:\n",
    "            print('\\n')\n",
    "            print(f'> Fim do processo iterativo')\n",
    "            \n",
    "            # Calcula a confiabilidade\n",
    "            conf = norm.cdf(beta[k])\n",
    "            pfalha = 1 - conf\n",
    "            print('\\n')\n",
    "            print(f'Confiabilidade: {conf:.15f}')\n",
    "            print(f'Probabilidade de falha: {pfalha:.15f}')\n",
    "        else:\n",
    "            k += 1\n",
    "    else:\n",
    "        k += 1"
   ]
  },
  {
   "cell_type": "code",
   "execution_count": null,
   "id": "e14e1f10",
   "metadata": {},
   "outputs": [],
   "source": []
  }
 ],
 "metadata": {
  "kernelspec": {
   "display_name": "Python 3",
   "language": "python",
   "name": "python3"
  },
  "language_info": {
   "codemirror_mode": {
    "name": "ipython",
    "version": 3
   },
   "file_extension": ".py",
   "mimetype": "text/x-python",
   "name": "python",
   "nbconvert_exporter": "python",
   "pygments_lexer": "ipython3",
   "version": "3.8.10"
  }
 },
 "nbformat": 4,
 "nbformat_minor": 5
}
