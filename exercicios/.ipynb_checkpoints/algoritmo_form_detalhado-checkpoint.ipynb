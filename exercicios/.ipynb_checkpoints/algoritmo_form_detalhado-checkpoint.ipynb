{
 "cells": [
  {
   "cell_type": "markdown",
   "id": "e98e74f2",
   "metadata": {},
   "source": [
    "# Variáveis aleatórias:\n",
    "\n",
    "$X_1 = R = \\text{Lognormal com }\\mu_R = 249,89 \\text{kN e  }\\sigma_R = 24.978 \\text{kN}$\n",
    "\n",
    "$X_2 = S_{pp} = \\text{Normal com }\\mu_{pp} = 19.86 \\text{kN e  }\\sigma_{pp} = 0.993 \\text{kN}$\n",
    "\n",
    "$X_3 = S_{sv} = \\text{Gumbel Tipo I (máximo) com }\\mu_{sv} = 78.84 \\text{kN e  }\\sigma_{pp} = 15.768 \\text{kN}$\n",
    "\n",
    "# Equação de Estado Limite\n",
    "\n",
    "$g(\\underline{X}) = X_1 - X_2 - X_3$"
   ]
  },
  {
   "cell_type": "markdown",
   "id": "10a32e9b",
   "metadata": {},
   "source": [
    "# Dados de entrada"
   ]
  },
  {
   "cell_type": "code",
   "execution_count": 1,
   "id": "a23362b0",
   "metadata": {},
   "outputs": [],
   "source": [
    "# Vetor de médias:\n",
    "M = [249.78, 19.86, 78.84]\n",
    "\n",
    "# Vetor de desvios padrão:\n",
    "D = [24.978, 0.993, 15.768]\n",
    "\n",
    "# Precisão fixada:\n",
    "delta = 0.00001"
   ]
  },
  {
   "cell_type": "markdown",
   "id": "d4c32e0a",
   "metadata": {},
   "source": [
    "# Algoritmo\n",
    "\n",
    "## Carrega as bibliotecas necessárias"
   ]
  },
  {
   "cell_type": "code",
   "execution_count": 2,
   "id": "22cc3956",
   "metadata": {},
   "outputs": [],
   "source": [
    "# import autograd.numpy as np\n",
    "import numpy as np\n",
    "from autograd import grad\n",
    "from scipy.stats import lognorm, norm, gumbel_r\n",
    "from copy import copy"
   ]
  },
  {
   "cell_type": "markdown",
   "id": "c4b6fc8e",
   "metadata": {},
   "source": [
    "## Define as funções que serão utilizadas"
   ]
  },
  {
   "cell_type": "code",
   "execution_count": 3,
   "id": "10e910fb",
   "metadata": {},
   "outputs": [],
   "source": [
    "# Função do estado limite\n",
    "def calcular_gx(X):\n",
    "    return X[0] - X[1] - X[2]\n",
    "\n",
    "# Função para obter o gradiente\n",
    "def __calcular_gradiente(X):\n",
    "    return grad(calcular_gx)(X)\n",
    "\n",
    "def calcular_gradiente_z(X, J):\n",
    "    grad_x = __calcular_gradiente(X)\n",
    "    return np.matmul(np.linalg.inv(J), grad_x)\n",
    "\n",
    "def calcular_modulo(vetor):\n",
    "    return np.sqrt(sum([x**2 for x in vetor]))\n",
    "\n",
    "# Função para calcular o coeficiente de variação:\n",
    "def __calcular_cv(media, dpadrao):\n",
    "    return dpadrao / media\n",
    "\n",
    "# Função para calcular os parâmetros da Lognormal:\n",
    "def calcular_parametros_lognormal(media, dpadrao):\n",
    "    cv = __calcular_cv(media, dpadrao)\n",
    "    params = {}\n",
    "    params['epsilon'] = np.sqrt(np.log(1 + cv**2))\n",
    "    params['lambda'] = np.log(media) - 1/2 * params['epsilon']**2\n",
    "    return params\n",
    "\n",
    "# Função para calcular os parâmetros da Gumbel:\n",
    "def calcular_parametros_gumbel(media, dpadrao):\n",
    "    cv = __calcular_cv(media, dpadrao)\n",
    "    params = {}\n",
    "    params['alpha'] = np.pi / np.sqrt(6 * dpadrao**2)\n",
    "    params['u'] = media  - (0.577216 / params['alpha'])\n",
    "    return params\n",
    "\n",
    "# Função para calcular os parâmetros da Normal equivalente:\n",
    "def calcular_parametros_normal_equiv(acumulada, densidade, media):\n",
    "    inversa = norm.ppf(acumulada)\n",
    "    phi = norm.pdf(inversa)\n",
    "    params = {}\n",
    "    params['sigma'] = phi / densidade\n",
    "    params['mi'] = media - params['sigma'] * inversa\n",
    "    return params"
   ]
  },
  {
   "cell_type": "markdown",
   "id": "2c76efe7",
   "metadata": {},
   "source": [
    "## Obtem os parâmetros da Lognormal e Gumbel"
   ]
  },
  {
   "cell_type": "code",
   "execution_count": 4,
   "id": "c334d21c",
   "metadata": {},
   "outputs": [],
   "source": [
    "# Parâmetros da Lognormal\n",
    "params_x1 = calcular_parametros_lognormal(M[0], D[0])\n",
    "\n",
    "# Parâmetros da distribuição de Gumbel\n",
    "params_x3 = calcular_parametros_gumbel(M[2], D[2])"
   ]
  },
  {
   "cell_type": "markdown",
   "id": "a906f4da",
   "metadata": {},
   "source": [
    "## Transforma os dados de entrada para o formato adequado"
   ]
  },
  {
   "cell_type": "code",
   "execution_count": 5,
   "id": "ada4e449",
   "metadata": {},
   "outputs": [],
   "source": [
    "# Matriz de desvios padrão\n",
    "\n",
    "D = np.array(D, dtype=float)\n",
    "D = np.diag(D)"
   ]
  },
  {
   "cell_type": "markdown",
   "id": "cf2cd2b3",
   "metadata": {},
   "source": [
    "## Inicia o processo iterativo"
   ]
  },
  {
   "cell_type": "markdown",
   "id": "1cba8c69",
   "metadata": {},
   "source": [
    "### Iteração k = 0"
   ]
  },
  {
   "cell_type": "code",
   "execution_count": 6,
   "id": "47a9cbea",
   "metadata": {},
   "outputs": [],
   "source": [
    "# Iteração:\n",
    "k = 0\n",
    "\n",
    "# Ponto do projeto no espaço original\n",
    "X = copy(M)\n",
    "\n",
    "# Parâmetros da Normal Equivalente à Lognormal\n",
    "acum = lognorm.cdf(x=X[0], s=params_x1['epsilon'], scale=np.exp(params_x1['lambda']))\n",
    "dens = lognorm.pdf(x=X[0], s=params_x1['epsilon'], scale=np.exp(params_x1['lambda']))\n",
    "params_x1_equiv = calcular_parametros_normal_equiv(acum, dens, X[0])\n",
    "\n",
    "# Parâmetros da Normal Equivalente à Gumbel\n",
    "acum = gumbel_r.cdf(X[2], params_x3['u'], 1/params_x3['alpha'])\n",
    "dens = gumbel_r.pdf(X[2], params_x3['u'], 1/params_x3['alpha'])\n",
    "params_x3_equiv = calcular_parametros_normal_equiv(acum, dens, X[2])\n",
    "\n",
    "beta = []\n",
    "L = np.array([[1,0,0], [0,1,0], [0,0,1]], dtype=float)\n",
    "M_ = [params_x1_equiv['mi'], M[1], params_x3_equiv['mi']]\n",
    "\n",
    "# Matriz Jacobiana\n",
    "J = np.matmul(L, np.linalg.inv(D))\n",
    "\n",
    "# Ponto do projeto no espaço reduzido:\n",
    "Z = np.matmul(J, np.subtract(X, M_))\n",
    "\n",
    "# Calcula o gradiente:\n",
    "grad_z = calcular_gradiente_z(X, J)\n",
    "\n",
    "# Cálculo da estimativa do índice de confiabilidade:\n",
    "beta.append(calcular_modulo(Z))\n",
    "\n",
    "# Calculo da estimativa no novo ponto\n",
    "modulo_gradz = calcular_modulo(grad_z)\n",
    "Z_ = (1 / modulo_gradz**2) *(np.matmul(grad_z, Z) - calcular_gx(X)) * grad_z"
   ]
  },
  {
   "cell_type": "markdown",
   "id": "457c07e4",
   "metadata": {},
   "source": [
    "### Iteração k = 1"
   ]
  },
  {
   "cell_type": "code",
   "execution_count": 7,
   "id": "2a5392c2",
   "metadata": {},
   "outputs": [
    {
     "data": {
      "text/plain": [
       "False"
      ]
     },
     "execution_count": 7,
     "metadata": {},
     "output_type": "execute_result"
    }
   ],
   "source": [
    "k += 1\n",
    "\n",
    "# Ponto do projeto no espaço original\n",
    "X = X + np.matmul(np.linalg.inv(J), np.subtract(Z_, Z))\n",
    "\n",
    "# Parâmetros da Normal Equivalente à Lognormal\n",
    "acum = lognorm.cdf(x=X[0], s=params_x1['epsilon'], scale=np.exp(params_x1['lambda']))\n",
    "dens = lognorm.pdf(x=X[0], s=params_x1['epsilon'], scale=np.exp(params_x1['lambda']))\n",
    "params_x1_equiv = calcular_parametros_normal_equiv(acum, dens, X[0])\n",
    "\n",
    "# Parâmetros da Normal Equivalente à Gumbel\n",
    "acum = gumbel_r.cdf(X[2], params_x3['u'], 1/params_x3['alpha'])\n",
    "dens = gumbel_r.pdf(X[2], params_x3['u'], 1/params_x3['alpha'])\n",
    "params_x3_equiv = calcular_parametros_normal_equiv(acum, dens, X[2])\n",
    "\n",
    "L = np.array([[1,0,0], [0,1,0], [0,0,1]], dtype=float)\n",
    "M_ = [params_x1_equiv['mi'], M[1], params_x3_equiv['mi']]\n",
    "\n",
    "# Matriz Jacobiana\n",
    "J = np.matmul(L, np.linalg.inv(D))\n",
    "\n",
    "# Ponto do projeto no espaço reduzido:\n",
    "Z = np.matmul(J, np.subtract(X, M_))\n",
    "\n",
    "# Calcula o gradiente:\n",
    "grad_z = calcular_gradiente_z(X, J)\n",
    "\n",
    "# Cálculo da estimativa do índice de confiabilidade:\n",
    "beta.append(calcular_modulo(Z))\n",
    "\n",
    "# Verificação da tolerância\n",
    "(beta[k] - beta[k-1]) / beta[k] <= delta"
   ]
  },
  {
   "cell_type": "markdown",
   "id": "ec353102",
   "metadata": {},
   "source": [
    "### Iteração k = 2"
   ]
  },
  {
   "cell_type": "code",
   "execution_count": 8,
   "id": "ab62345f",
   "metadata": {},
   "outputs": [
    {
     "data": {
      "text/plain": [
       "False"
      ]
     },
     "execution_count": 8,
     "metadata": {},
     "output_type": "execute_result"
    }
   ],
   "source": [
    "k += 1\n",
    "\n",
    "# Ponto do projeto no espaço original\n",
    "X = X + np.matmul(np.linalg.inv(J), np.subtract(Z_, Z))\n",
    "\n",
    "# Parâmetros da Normal Equivalente à Lognormal\n",
    "acum = lognorm.cdf(x=X[0], s=params_x1['epsilon'], scale=np.exp(params_x1['lambda']))\n",
    "dens = lognorm.pdf(x=X[0], s=params_x1['epsilon'], scale=np.exp(params_x1['lambda']))\n",
    "params_x1_equiv = calcular_parametros_normal_equiv(acum, dens, X[0])\n",
    "\n",
    "# Parâmetros da Normal Equivalente à Gumbel\n",
    "acum = gumbel_r.cdf(X[2], params_x3['u'], 1/params_x3['alpha'])\n",
    "dens = gumbel_r.pdf(X[2], params_x3['u'], 1/params_x3['alpha'])\n",
    "params_x3_equiv = calcular_parametros_normal_equiv(acum, dens, X[2])\n",
    "\n",
    "L = np.array([[1,0,0], [0,1,0], [0,0,1]], dtype=float)\n",
    "M_ = [params_x1_equiv['mi'], M[1], params_x3_equiv['mi']]\n",
    "\n",
    "# Matriz Jacobiana\n",
    "J = np.matmul(L, np.linalg.inv(D))\n",
    "\n",
    "# Ponto do projeto no espaço reduzido:\n",
    "Z = np.matmul(J, np.subtract(X, M_))\n",
    "\n",
    "# Calcula o gradiente:\n",
    "grad_z = calcular_gradiente_z(X, J)\n",
    "\n",
    "# Cálculo da estimativa do índice de confiabilidade:\n",
    "beta.append(calcular_modulo(Z))\n",
    "\n",
    "# Verificação da tolerância\n",
    "abs(beta[k] - beta[k-1]) / beta[k] <= delta"
   ]
  },
  {
   "cell_type": "markdown",
   "id": "dd5b2360",
   "metadata": {},
   "source": [
    "### Iteração k = 3"
   ]
  },
  {
   "cell_type": "code",
   "execution_count": 9,
   "id": "660c8577",
   "metadata": {},
   "outputs": [
    {
     "data": {
      "text/plain": [
       "False"
      ]
     },
     "execution_count": 9,
     "metadata": {},
     "output_type": "execute_result"
    }
   ],
   "source": [
    "k += 1\n",
    "\n",
    "# Ponto do projeto no espaço original\n",
    "X = X + np.matmul(np.linalg.inv(J), np.subtract(Z_, Z))\n",
    "\n",
    "# Parâmetros da Normal Equivalente à Lognormal\n",
    "acum = lognorm.cdf(x=X[0], s=params_x1['epsilon'], scale=np.exp(params_x1['lambda']))\n",
    "dens = lognorm.pdf(x=X[0], s=params_x1['epsilon'], scale=np.exp(params_x1['lambda']))\n",
    "params_x1_equiv = calcular_parametros_normal_equiv(acum, dens, X[0])\n",
    "\n",
    "# Parâmetros da Normal Equivalente à Gumbel\n",
    "acum = gumbel_r.cdf(X[2], params_x3['u'], 1/params_x3['alpha'])\n",
    "dens = gumbel_r.pdf(X[2], params_x3['u'], 1/params_x3['alpha'])\n",
    "params_x3_equiv = calcular_parametros_normal_equiv(acum, dens, X[2])\n",
    "\n",
    "L = np.array([[1,0,0], [0,1,0], [0,0,1]], dtype=float)\n",
    "M_ = [params_x1_equiv['mi'], M[1], params_x3_equiv['mi']]\n",
    "\n",
    "# Matriz Jacobiana\n",
    "J = np.matmul(L, np.linalg.inv(D))\n",
    "\n",
    "# Ponto do projeto no espaço reduzido:\n",
    "Z = np.matmul(J, np.subtract(X, M_))\n",
    "\n",
    "# Calcula o gradiente:\n",
    "grad_z = calcular_gradiente_z(X, J)\n",
    "\n",
    "# Cálculo da estimativa do índice de confiabilidade:\n",
    "beta.append(calcular_modulo(Z))\n",
    "\n",
    "# Verificação da tolerância\n",
    "abs(beta[k] - beta[k-1]) / beta[k] <= delta"
   ]
  },
  {
   "cell_type": "markdown",
   "id": "4053d1d2",
   "metadata": {},
   "source": [
    "### Iteração k = 4"
   ]
  },
  {
   "cell_type": "code",
   "execution_count": 11,
   "id": "c27b4bcf",
   "metadata": {},
   "outputs": [
    {
     "data": {
      "text/plain": [
       "False"
      ]
     },
     "execution_count": 11,
     "metadata": {},
     "output_type": "execute_result"
    }
   ],
   "source": [
    "k += 1\n",
    "\n",
    "# Ponto do projeto no espaço original\n",
    "X = X + np.matmul(np.linalg.inv(J), np.subtract(Z_, Z))\n",
    "\n",
    "# Parâmetros da Normal Equivalente à Lognormal\n",
    "acum = lognorm.cdf(x=X[0], s=params_x1['epsilon'], scale=np.exp(params_x1['lambda']))\n",
    "dens = lognorm.pdf(x=X[0], s=params_x1['epsilon'], scale=np.exp(params_x1['lambda']))\n",
    "params_x1_equiv = calcular_parametros_normal_equiv(acum, dens, X[0])\n",
    "\n",
    "# Parâmetros da Normal Equivalente à Gumbel\n",
    "acum = gumbel_r.cdf(X[2], params_x3['u'], 1/params_x3['alpha'])\n",
    "dens = gumbel_r.pdf(X[2], params_x3['u'], 1/params_x3['alpha'])\n",
    "params_x3_equiv = calcular_parametros_normal_equiv(acum, dens, X[2])\n",
    "\n",
    "L = np.array([[1,0,0], [0,1,0], [0,0,1]], dtype=float)\n",
    "M_ = [params_x1_equiv['mi'], M[1], params_x3_equiv['mi']]\n",
    "\n",
    "# Matriz Jacobiana\n",
    "J = np.matmul(L, np.linalg.inv(D))\n",
    "\n",
    "# Ponto do projeto no espaço reduzido:\n",
    "Z = np.matmul(J, np.subtract(X, M_))\n",
    "\n",
    "# Calcula o gradiente:\n",
    "grad_z = calcular_gradiente_z(X, J)\n",
    "\n",
    "# Cálculo da estimativa do índice de confiabilidade:\n",
    "beta.append(calcular_modulo(Z))\n",
    "\n",
    "# Verificação da tolerância\n",
    "abs(beta[k] - beta[k-1]) / beta[k] <= delta"
   ]
  },
  {
   "cell_type": "markdown",
   "id": "34645cbd",
   "metadata": {},
   "source": [
    "### Iteração k = 5"
   ]
  },
  {
   "cell_type": "code",
   "execution_count": 13,
   "id": "592954d7",
   "metadata": {},
   "outputs": [
    {
     "data": {
      "text/plain": [
       "False"
      ]
     },
     "execution_count": 13,
     "metadata": {},
     "output_type": "execute_result"
    }
   ],
   "source": [
    "k += 1\n",
    "\n",
    "# Ponto do projeto no espaço original\n",
    "X = X + np.matmul(np.linalg.inv(J), np.subtract(Z_, Z))\n",
    "\n",
    "# Parâmetros da Normal Equivalente à Lognormal\n",
    "acum = lognorm.cdf(x=X[0], s=params_x1['epsilon'], scale=np.exp(params_x1['lambda']))\n",
    "dens = lognorm.pdf(x=X[0], s=params_x1['epsilon'], scale=np.exp(params_x1['lambda']))\n",
    "params_x1_equiv = calcular_parametros_normal_equiv(acum, dens, X[0])\n",
    "\n",
    "# Parâmetros da Normal Equivalente à Gumbel\n",
    "acum = gumbel_r.cdf(X[2], params_x3['u'], 1/params_x3['alpha'])\n",
    "dens = gumbel_r.pdf(X[2], params_x3['u'], 1/params_x3['alpha'])\n",
    "params_x3_equiv = calcular_parametros_normal_equiv(acum, dens, X[2])\n",
    "\n",
    "L = np.array([[1,0,0], [0,1,0], [0,0,1]], dtype=float)\n",
    "M_ = [params_x1_equiv['mi'], M[1], params_x3_equiv['mi']]\n",
    "\n",
    "# Matriz Jacobiana\n",
    "J = np.matmul(L, np.linalg.inv(D))\n",
    "\n",
    "# Ponto do projeto no espaço reduzido:\n",
    "Z = np.matmul(J, np.subtract(X, M_))\n",
    "\n",
    "# Calcula o gradiente:\n",
    "grad_z = calcular_gradiente_z(X, J)\n",
    "\n",
    "# Cálculo da estimativa do índice de confiabilidade:\n",
    "beta.append(calcular_modulo(Z))\n",
    "\n",
    "# Verificação da tolerância\n",
    "abs(beta[k] - beta[k-1]) / beta[k] <= delta"
   ]
  },
  {
   "cell_type": "markdown",
   "id": "8ed10af7",
   "metadata": {},
   "source": [
    "### Iteração k = 6"
   ]
  },
  {
   "cell_type": "code",
   "execution_count": 15,
   "id": "2987ff85",
   "metadata": {},
   "outputs": [
    {
     "data": {
      "text/plain": [
       "False"
      ]
     },
     "execution_count": 15,
     "metadata": {},
     "output_type": "execute_result"
    }
   ],
   "source": [
    "k += 1\n",
    "\n",
    "# Ponto do projeto no espaço original\n",
    "X = X + np.matmul(np.linalg.inv(J), np.subtract(Z_, Z))\n",
    "\n",
    "# Parâmetros da Normal Equivalente à Lognormal\n",
    "acum = lognorm.cdf(x=X[0], s=params_x1['epsilon'], scale=np.exp(params_x1['lambda']))\n",
    "dens = lognorm.pdf(x=X[0], s=params_x1['epsilon'], scale=np.exp(params_x1['lambda']))\n",
    "params_x1_equiv = calcular_parametros_normal_equiv(acum, dens, X[0])\n",
    "\n",
    "# Parâmetros da Normal Equivalente à Gumbel\n",
    "acum = gumbel_r.cdf(X[2], params_x3['u'], 1/params_x3['alpha'])\n",
    "dens = gumbel_r.pdf(X[2], params_x3['u'], 1/params_x3['alpha'])\n",
    "params_x3_equiv = calcular_parametros_normal_equiv(acum, dens, X[2])\n",
    "\n",
    "L = np.array([[1,0,0], [0,1,0], [0,0,1]], dtype=float)\n",
    "M_ = [params_x1_equiv['mi'], M[1], params_x3_equiv['mi']]\n",
    "\n",
    "# Matriz Jacobiana\n",
    "J = np.matmul(L, np.linalg.inv(D))\n",
    "\n",
    "# Ponto do projeto no espaço reduzido:\n",
    "Z = np.matmul(J, np.subtract(X, M_))\n",
    "\n",
    "# Calcula o gradiente:\n",
    "grad_z = calcular_gradiente_z(X, J)\n",
    "\n",
    "# Cálculo da estimativa do índice de confiabilidade:\n",
    "beta.append(calcular_modulo(Z))\n",
    "\n",
    "# Verificação da tolerância\n",
    "abs(beta[k] - beta[k-1]) / beta[k] <= delta"
   ]
  },
  {
   "cell_type": "code",
   "execution_count": 16,
   "id": "c1a65be0",
   "metadata": {},
   "outputs": [
    {
     "data": {
      "text/plain": [
       "[0.17670487238978136,\n",
       " 5.063590436753624,\n",
       " 4.127072480026653,\n",
       " 4.841783178130328,\n",
       " 4.380389951985237,\n",
       " 4.41359674992093,\n",
       " 3.652348202163642]"
      ]
     },
     "execution_count": 16,
     "metadata": {},
     "output_type": "execute_result"
    }
   ],
   "source": [
    "beta"
   ]
  },
  {
   "cell_type": "code",
   "execution_count": null,
   "id": "94591701",
   "metadata": {},
   "outputs": [],
   "source": []
  }
 ],
 "metadata": {
  "kernelspec": {
   "display_name": "Python 3",
   "language": "python",
   "name": "python3"
  },
  "language_info": {
   "codemirror_mode": {
    "name": "ipython",
    "version": 3
   },
   "file_extension": ".py",
   "mimetype": "text/x-python",
   "name": "python",
   "nbconvert_exporter": "python",
   "pygments_lexer": "ipython3",
   "version": "3.8.10"
  }
 },
 "nbformat": 4,
 "nbformat_minor": 5
}
